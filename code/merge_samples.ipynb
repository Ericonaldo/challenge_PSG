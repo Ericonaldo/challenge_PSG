{
 "cells": [
  {
   "cell_type": "code",
   "execution_count": 1,
   "metadata": {},
   "outputs": [],
   "source": [
    "import pandas as pd\n",
    "import numpy as np\n",
    "import pickle\n",
    "import os\n",
    "from lxml import etree\n",
    "from logos_tools import *\n",
    "from logos_opta import *"
   ]
  },
  {
   "cell_type": "code",
   "execution_count": null,
   "metadata": {},
   "outputs": [],
   "source": [
    "# 获取所有团队样本\n",
    "game_dir = '../resources/games_friendly/'\n",
    "all_games = [f for f in os.listdir(game_dir) if os.path.isfile(os.path.join(game_dir, f))]\n",
    "player_time_list = [get_player_time_df(etree.parse(os.path.join(game_dir,x))) for x in all_games]"
   ]
  }
 ],
 "metadata": {
  "kernelspec": {
   "display_name": "Python 3",
   "language": "python",
   "name": "python3"
  },
  "language_info": {
   "codemirror_mode": {
    "name": "ipython",
    "version": 3
   },
   "file_extension": ".py",
   "mimetype": "text/x-python",
   "name": "python",
   "nbconvert_exporter": "python",
   "pygments_lexer": "ipython3",
   "version": "3.5.6"
  }
 },
 "nbformat": 4,
 "nbformat_minor": 2
}

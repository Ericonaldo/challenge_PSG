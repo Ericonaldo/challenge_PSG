{
 "cells": [
  {
   "cell_type": "code",
   "execution_count": 164,
   "metadata": {},
   "outputs": [],
   "source": [
    "import pandas as pd\n",
    "import numpy as np\n",
    "import pickle\n",
    "import os\n",
    "from lxml import etree\n",
    "from logos_tools import *\n",
    "from logos_opta import *"
   ]
  },
  {
   "cell_type": "code",
   "execution_count": 165,
   "metadata": {},
   "outputs": [],
   "source": [
    "GAME_FILE = '../resources/games_friendly/17_PSG_vs_Nice.xml'"
   ]
  },
  {
   "cell_type": "code",
   "execution_count": 166,
   "metadata": {},
   "outputs": [],
   "source": [
    "# 读取比赛\n",
    "xml = etree.parse(GAME_FILE)"
   ]
  },
  {
   "cell_type": "code",
   "execution_count": 167,
   "metadata": {},
   "outputs": [],
   "source": [
    "# 1.统计时间\n",
    "# 2.球员交易"
   ]
  },
  {
   "cell_type": "code",
   "execution_count": 168,
   "metadata": {},
   "outputs": [],
   "source": [
    "# 获取首发\n",
    "set_up = xml.xpath('//Event[@type=\"Team set up\"]')\n",
    "def get_from_setup(set_up, qid):\n",
    "    return sum([[x.strip() for x in event.xpath('Q[@qualifier_id=\"%s\"]' % qid)[0].get('value').split(',')] for event in set_up], [])\n",
    "position_list = get_from_setup(set_up, '44')\n",
    "player_list = get_from_setup(set_up, '30')\n",
    "player_df = pd.DataFrame({'player':player_list, 'position':position_list})"
   ]
  },
  {
   "cell_type": "code",
   "execution_count": 169,
   "metadata": {},
   "outputs": [],
   "source": [
    "# 结束时间\n",
    "def get_time(minute, sec):\n",
    "    return int(minute)*60 + int(sec)\n",
    "\n",
    "total_time = max([get_time(event.get('min'), event.get('sec')) for event in xml.xpath('//Event[@type=\"End\"]')])\n",
    "# 简化处理，简单考虑中场的伤停补时\n",
    "player_df.loc[player_df.position!='5', 'start'] = 0\n",
    "player_df.loc[:, 'end'] = total_time"
   ]
  },
  {
   "cell_type": "code",
   "execution_count": 170,
   "metadata": {},
   "outputs": [],
   "source": [
    "# 球员上场，获取开始时间\n",
    "player_on = xml.xpath('//Event[@type=\"Player on\"]')\n",
    "player_on_list = [(event.get('player_id'), get_time(event.get('min'), event.get('sec'))) for event in player_on]\n",
    "for item in player_on_list:\n",
    "    player_df.loc[player_df.player==item[0], 'start'] = item[1]"
   ]
  },
  {
   "cell_type": "code",
   "execution_count": 171,
   "metadata": {},
   "outputs": [],
   "source": [
    "# 球员下场，获取结束时间\n",
    "player_off = xml.xpath('//Event[@type=\"Player Off\"]')\n",
    "player_off_list = [(event.get('player_id'), get_time(event.get('min'), event.get('sec'))) for event in player_off]\n",
    "for item in player_off_list:\n",
    "    player_df.loc[player_df.player==item[0], 'end'] = item[1]"
   ]
  },
  {
   "cell_type": "code",
   "execution_count": 172,
   "metadata": {},
   "outputs": [],
   "source": [
    "def get_time(minute, sec):\n",
    "        return int(minute)*60 + int(sec)"
   ]
  },
  {
   "cell_type": "code",
   "execution_count": 173,
   "metadata": {},
   "outputs": [],
   "source": [
    "def get_player_time_df(xml):\n",
    "    # 获取首发\n",
    "    set_up = xml.xpath('//Event[@type=\"Team set up\"]')\n",
    "    def get_from_setup(set_up, qid):\n",
    "        return sum([[x.strip() for x in event.xpath('Q[@qualifier_id=\"%s\"]' % qid)[0].get('value').split(',')] for event in set_up], [])\n",
    "    position_list = get_from_setup(set_up, '44')\n",
    "    player_list = get_from_setup(set_up, '30')\n",
    "    player_df = pd.DataFrame({'player':player_list, 'position':position_list})\n",
    "    # 结束时间\n",
    "    total_time = max([get_time(event.get('min'), event.get('sec')) for event in xml.xpath('//Event[@type=\"End\"]')])\n",
    "    # 简化处理，简单考虑中场的伤停补时\n",
    "    player_df.loc[player_df.position!='5', 'start'] = 0\n",
    "    player_df.loc[:, 'end'] = total_time\n",
    "    # 球员上场，获取开始时间\n",
    "    player_on = xml.xpath('//Event[@type=\"Player on\"]')\n",
    "    player_on_list = [(event.get('player_id'), get_time(event.get('min'), event.get('sec'))) for event in player_on]\n",
    "    for item in player_on_list:\n",
    "        player_df.loc[player_df.player==item[0], 'start'] = item[1]\n",
    "    # 球员下场，获取结束时间\n",
    "    player_off = xml.xpath('//Event[@type=\"Player Off\"]')\n",
    "    player_off_list = [(event.get('player_id'), get_time(event.get('min'), event.get('sec'))) for event in player_off]\n",
    "    for item in player_off_list:\n",
    "        player_df.loc[player_df.player==item[0], 'end'] = item[1]\n",
    "    player_df = player_df.loc[player_df.start.notna()].copy()\n",
    "    player_df.loc[:,'time'] = (player_df.end - player_df.start)\n",
    "    return player_df"
   ]
  },
  {
   "cell_type": "code",
   "execution_count": 174,
   "metadata": {},
   "outputs": [],
   "source": [
    "# 获取所有的比赛并获得球员总时间\n",
    "game_dir = '../resources/games_friendly/'\n",
    "all_games = [f for f in os.listdir(game_dir) if os.path.isfile(os.path.join(game_dir, f))]\n",
    "player_time_list = [get_player_time_df(etree.parse(os.path.join(game_dir,x))) for x in all_games]"
   ]
  },
  {
   "cell_type": "code",
   "execution_count": 175,
   "metadata": {},
   "outputs": [],
   "source": [
    "player_time_df = pd.concat(player_time_list)\n",
    "player_s = player_time_df.groupby('player')['time'].sum()"
   ]
  },
  {
   "cell_type": "code",
   "execution_count": 176,
   "metadata": {},
   "outputs": [],
   "source": [
    "# 每个人增加2*19分钟，放宽限制（上半场伤停补时） 不使用该方案"
   ]
  },
  {
   "cell_type": "code",
   "execution_count": 177,
   "metadata": {},
   "outputs": [],
   "source": [
    "player_s = player_s.loc[player_s>(800*60)]"
   ]
  },
  {
   "cell_type": "code",
   "execution_count": 178,
   "metadata": {},
   "outputs": [
    {
     "data": {
      "text/plain": [
       "235"
      ]
     },
     "execution_count": 178,
     "metadata": {},
     "output_type": "execute_result"
    }
   ],
   "source": [
    "len(player_s)"
   ]
  },
  {
   "cell_type": "code",
   "execution_count": 99,
   "metadata": {},
   "outputs": [],
   "source": [
    "# 转会\n",
    "PLAYER_FILE = '../resources/Players and IDs - F40 - L1 20162017.xml'\n",
    "xml = etree.parse(PLAYER_FILE)\n",
    "playerChanges = xml.xpath('//PlayerChanges')[0]\n",
    "playerChanges = playerChanges.xpath('Team/Player')\n",
    "playerid = []\n",
    "leave_date = []\n",
    "for x in playerChanges:\n",
    "    playerid.append(x.get('uID')[1:])\n",
    "    leave_date.append(x.xpath('Stat[@Type=\"leave_date\"]')[0].text)\n",
    "playerChanges_df = pd.DataFrame({'player':playerid, 'leave_date':leave_date})"
   ]
  },
  {
   "cell_type": "code",
   "execution_count": 100,
   "metadata": {},
   "outputs": [],
   "source": [
    "# 有交易记录的球员全部去除\n",
    "playerChanges_df.loc[playerChanges_df.leave_date>'2017-02-01']"
   ]
  },
  {
   "cell_type": "code",
   "execution_count": 136,
   "metadata": {},
   "outputs": [],
   "source": [
    "# 去除被交易的球员\n",
    "player_s = player_s.loc[list(set(list(player_s.index)) - set(list(playerChanges_df.player)))]"
   ]
  },
  {
   "cell_type": "code",
   "execution_count": 141,
   "metadata": {},
   "outputs": [],
   "source": [
    "# 保存有意义的球员\n",
    "use_player_file = '../resources/use_player'\n",
    "with open(use_player_file, 'wb') as handle:\n",
    "    pickle.dump(set(player_s.index), handle, protocol=pickle.HIGHEST_PROTOCOL)"
   ]
  },
  {
   "cell_type": "code",
   "execution_count": 142,
   "metadata": {},
   "outputs": [],
   "source": [
    "# with open(use_player_file, 'rb') as handle:\n",
    "#     test=pickle.load(handle)"
   ]
  },
  {
   "cell_type": "code",
   "execution_count": 147,
   "metadata": {},
   "outputs": [],
   "source": [
    "def decide_side(x):\n",
    "    if x in ('Left','Right','Left/Right'):\n",
    "        return 'side'\n",
    "    elif x == 'Centre':\n",
    "        return 'centre'\n",
    "    else:\n",
    "        return 'multi'"
   ]
  },
  {
   "cell_type": "code",
   "execution_count": 159,
   "metadata": {},
   "outputs": [],
   "source": [
    "# 获取球员信息\n",
    "dim_player_file = '../resources/Players and IDs - F40 - L1 20162017.xml'\n",
    "xml = etree.parse(dim_player_file)\n",
    "player_id = []\n",
    "player_name = []\n",
    "position = []\n",
    "real_position = []\n",
    "real_position_side = []\n",
    "jersey_num = []\n",
    "for element in xml.xpath('SoccerDocument/Team/Player'):\n",
    "    player_id.append(element.get('uID')[1:])\n",
    "    player_name.append(element.xpath('Name')[0].text)\n",
    "    position.append(element.xpath('Position')[0].text)\n",
    "    real_position.append(element.xpath(\"Stat[@Type='real_position']\")[0].text)\n",
    "    real_position_side.append(element.xpath(\"Stat[@Type='real_position_side']\")[0].text)\n",
    "    jersey_num.append(element.xpath(\"Stat[@Type='jersey_num']\")[0].text)\n",
    "all_player_df = pd.DataFrame({'player_id':player_id, 'player_name':player_name, 'position':position, \n",
    "                              'real_position':real_position, 'real_position_side':real_position_side, \n",
    "                              'jersey_num':jersey_num}, index=player_id)\n",
    "all_player_df['position_use'] = all_player_df.position + '-' + all_player_df.real_position_side.map(decide_side)"
   ]
  },
  {
   "cell_type": "code",
   "execution_count": 160,
   "metadata": {},
   "outputs": [],
   "source": [
    "# 去重\n",
    "all_player_df = all_player_df.drop_duplicates(subset='player_id', keep='last')\n",
    "file = '../resources/dim/players.tsv'\n",
    "all_player_df.to_csv(file, sep='\\t', index=False)"
   ]
  }
 ],
 "metadata": {
  "kernelspec": {
   "display_name": "Python 3",
   "language": "python",
   "name": "python3"
  },
  "language_info": {
   "codemirror_mode": {
    "name": "ipython",
    "version": 3
   },
   "file_extension": ".py",
   "mimetype": "text/x-python",
   "name": "python",
   "nbconvert_exporter": "python",
   "pygments_lexer": "ipython3",
   "version": "3.5.6"
  }
 },
 "nbformat": 4,
 "nbformat_minor": 2
}

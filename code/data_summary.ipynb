{
 "cells": [
  {
   "cell_type": "code",
   "execution_count": 43,
   "metadata": {},
   "outputs": [],
   "source": [
    "import pandas as pd\n",
    "import numpy as np\n",
    "from lxml import etree\n",
    "from logos_tools import *"
   ]
  },
  {
   "cell_type": "code",
   "execution_count": 37,
   "metadata": {},
   "outputs": [
    {
     "data": {
      "text/plain": [
       "0.0     0.90\n",
       "0.1     5.41\n",
       "0.2     7.50\n",
       "0.3     9.43\n",
       "0.4    11.50\n",
       "0.5    13.60\n",
       "0.6    16.10\n",
       "0.7    20.00\n",
       "0.8    23.80\n",
       "0.9    30.80\n",
       "Name: length, dtype: float64"
      ]
     },
     "execution_count": 37,
     "metadata": {},
     "output_type": "execute_result"
    }
   ],
   "source": [
    "# 探索合理的传球长度分类\n",
    "test = etree.parse('../resources/games_friendly/17_Paris Saint-Germain_vs_Nice.xml')\n",
    "pass_list = test.xpath(\"//Event[@type_id='1']\")\n",
    "def is_long(x):\n",
    "    q = x.xpath(\"child::Q[@qualifier_id='1']\")\n",
    "    return 1 if len(q)>0 else 0\n",
    "id_list = []\n",
    "islong_list = []\n",
    "length_list = []\n",
    "for x in pass_list:\n",
    "    id_list.append(x.get('event_id'))\n",
    "    islong_list.append(is_long(x))\n",
    "    length_list.append(float(x.xpath(\"child::Q[@qualifier_id='212']\")[0].get('value')))\n",
    "pass_df = pd.DataFrame({'id':id_list, 'length':length_list, 'islong':islong_list})\n",
    "pass_df.length.quantile([x*0.1 for x in range(10)])\n",
    "# 短传：<12 中距离：12~32 长传：>32"
   ]
  },
  {
   "cell_type": "code",
   "execution_count": 54,
   "metadata": {},
   "outputs": [],
   "source": [
    "# 探索事件类型\n",
    "game_df = pd.read_csv('../resources/test.tsv', sep='\\t', na_values='null')"
   ]
  },
  {
   "cell_type": "code",
   "execution_count": 55,
   "metadata": {},
   "outputs": [],
   "source": [
    "game_df.fillna({'length':UNK, 'direction':UNK, 'position':UNK, 'qualifier':UNK}, inplace=True)"
   ]
  },
  {
   "cell_type": "code",
   "execution_count": 56,
   "metadata": {},
   "outputs": [],
   "source": [
    "e = game_df['event_type'] + '_' + \\\n",
    "game_df['outcome'].astype('str') + '_'  + \\\n",
    "game_df['length'] + '_'  + \\\n",
    "game_df['direction'] + '_' + \\\n",
    "game_df['position'] + '_' + \\\n",
    "game_df['qualifier']"
   ]
  },
  {
   "cell_type": "code",
   "execution_count": 62,
   "metadata": {},
   "outputs": [
    {
     "data": {
      "text/plain": [
       "period          int64\n",
       "min             int64\n",
       "sec             int64\n",
       "player_id     float64\n",
       "team_id         int64\n",
       "event_type     object\n",
       "outcome         int64\n",
       "length         object\n",
       "direction      object\n",
       "x             float64\n",
       "y             float64\n",
       "position       object\n",
       "qualifier      object\n",
       "dtype: object"
      ]
     },
     "execution_count": 62,
     "metadata": {},
     "output_type": "execute_result"
    }
   ],
   "source": [
    "game_df.dtypes"
   ]
  },
  {
   "cell_type": "code",
   "execution_count": 61,
   "metadata": {},
   "outputs": [
    {
     "data": {
      "text/plain": [
       "Ball recovery_1_null_null_null_null                              109\n",
       "Pass_1_middle_right_Back_null                                     87\n",
       "Pass_1_middle_left_Back_null                                      84\n",
       "Pass_1_short_forward_Back_null                                    52\n",
       "Pass_1_short_left_Back_null                                       50\n",
       "Pass_1_middle_back_Back_null                                      46\n",
       "Pass_1_short_back_Back_null                                       44\n",
       "Pass_1_short_right_Back_null                                      43\n",
       "Pass_1_short_right_Center_null                                    37\n",
       "Pass_1_middle_right_Center_null                                   36\n",
       "Deleted event_1_null_null_null_null                               36\n",
       "Out_1_null_null_Back_null                                         34\n",
       "Pass_1_middle_left_Center_null                                    31\n",
       "Pass_1_middle_left_Left_null                                      29\n",
       "Pass_1_middle_forward_Back_null                                   27\n",
       "Pass_1_short_left_Center_null                                     26\n",
       "Pass_1_middle_right_Right_null                                    26\n",
       "Out_0_null_null_Back_null                                         25\n",
       "Pass_1_short_forward_Left_null                                    21\n",
       "Keeper pick-up_1_null_null_null_null                              20\n",
       "Interception_1_null_null_Back_null                                18\n",
       "Pass_1_short_forward_Center_null                                  17\n",
       "Pass_1_middle_forward_Right_null                                  16\n",
       "Clearance_1_middle_null_null_null                                 16\n",
       "Out_1_null_null_Right_null                                        15\n",
       "                                                                ... \n",
       "Pass_1_middle_right_Center_Assist                                  1\n",
       "Pass_1_long_right_Center_Chipped|Corner taken|Cross                1\n",
       "Error_1_null_null_null_Leading to goal                             1\n",
       "Pass_0_long_forward_Back_Chipped                                   1\n",
       "Tackle_1_null_null_Right_Out of play                               1\n",
       "Pass_1_long_left_Back_Direct|Free kick                             1\n",
       "Save_1_null_null_Back_Collected|Standing                           1\n",
       "Pass_0_short_back_Left_null                                        1\n",
       "Pass_1_long_left_Center_Chipped                                    1\n",
       "Pass_1_middle_left_Left_Direct|Free kick                           1\n",
       "Pass_1_short_right_Back_Kick Off                                   1\n",
       "Pass_1_short_back_Back_Kick Off|Tap                                1\n",
       "Pass_0_middle_forward_Center_Chipped                               1\n",
       "Pass_1_long_forward_Center_Chipped                                 1\n",
       "Pass_1_short_right_Right_Lay-off                                   1\n",
       "Pass_0_middle_forward_Back_Throw-in                                1\n",
       "Pass_1_short_right_Left_Lay-off                                    1\n",
       "Pass_1_long_forward_Back_Launch                                    1\n",
       "Miss_1_null_null_Center_Assisted|Big Chance|footed|inside box      1\n",
       "Pass_1_long_left_Left_Chipped|Direct|Free kick|Switch of play      1\n",
       "Pass_1_long_left_Center_Switch of play                             1\n",
       "Clearance_1_long_null_null_Out of play                             1\n",
       "Pass_1_long_right_Center_null                                      1\n",
       "Pass_1_middle_forward_Left_Flick-on                                1\n",
       "Pass_1_short_left_Center_Assist                                    1\n",
       "Length: 345, dtype: int64"
      ]
     },
     "execution_count": 61,
     "metadata": {},
     "output_type": "execute_result"
    }
   ],
   "source": [
    "pd.options.display.max_rows = 50\n",
    "e.value_counts()\n",
    "# result = e.value_counts()\n",
    "# result.sort_index()"
   ]
  },
  {
   "cell_type": "code",
   "execution_count": 59,
   "metadata": {},
   "outputs": [
    {
     "data": {
      "text/plain": [
       "345"
      ]
     },
     "execution_count": 59,
     "metadata": {},
     "output_type": "execute_result"
    }
   ],
   "source": [
    "len(result)"
   ]
  }
 ],
 "metadata": {
  "kernelspec": {
   "display_name": "Python 3",
   "language": "python",
   "name": "python3"
  },
  "language_info": {
   "codemirror_mode": {
    "name": "ipython",
    "version": 3
   },
   "file_extension": ".py",
   "mimetype": "text/x-python",
   "name": "python",
   "nbconvert_exporter": "python",
   "pygments_lexer": "ipython3",
   "version": "3.5.6"
  }
 },
 "nbformat": 4,
 "nbformat_minor": 2
}

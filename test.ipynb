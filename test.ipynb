{
 "cells": [
  {
   "cell_type": "code",
   "execution_count": 50,
   "metadata": {},
   "outputs": [],
   "source": [
    "import pandas as pd\n",
    "from lxml import etree"
   ]
  },
  {
   "cell_type": "code",
   "execution_count": 88,
   "metadata": {},
   "outputs": [],
   "source": [
    "# 加载维表\n",
    "event_df = pd.read_csv('data/event.txt', sep='|')\n",
    "event_s = pd.Series(data=event_df.type.values, index=[str(x) for x in event_df.id])\n",
    "event = event_s.to_dict()"
   ]
  },
  {
   "cell_type": "code",
   "execution_count": 90,
   "metadata": {},
   "outputs": [],
   "source": [
    "qualifier_df = pd.read_csv('data/qualifier.txt', sep='|')\n",
    "qualifier_s = pd.Series(data=qualifier_df.type.values, index=[str(x) for x in qualifier_df.id])\n",
    "qualifier = qualifier_s.to_dict()"
   ]
  },
  {
   "cell_type": "code",
   "execution_count": 81,
   "metadata": {},
   "outputs": [],
   "source": [
    "# 读取比赛\n",
    "xml = etree.parse('data/test.xml')"
   ]
  },
  {
   "cell_type": "code",
   "execution_count": 47,
   "metadata": {},
   "outputs": [],
   "source": [
    "# etree.tostring(tree)"
   ]
  },
  {
   "cell_type": "code",
   "execution_count": 94,
   "metadata": {},
   "outputs": [],
   "source": [
    "# 遍历树添加属性\n",
    "for element in xml.iter(tag=etree.Element):\n",
    "    if (element.tag=='Event'):\n",
    "        element.set('type', event[element.get('type_id')])\n",
    "    if (element.tag=='Q'):\n",
    "        element.set('type', qualifier[element.get('qualifier_id')])"
   ]
  },
  {
   "cell_type": "code",
   "execution_count": 95,
   "metadata": {},
   "outputs": [
    {
     "name": "stdout",
     "output_type": "stream",
     "text": [
      "<!-- Copyright 2001-2016 Opta Sportsdata Ltd. All rights reserved. --><!-- PRODUCTION HEADER\n",
      "     produced on:        valde-jobq-a01.nexus.opta.net\n",
      "     production time:    20160927T151848,257Z\n",
      "     production module:  Opta::Feed::XML::Soccer::F24\n",
      "--><Games timestamp=\"2016-09-27T16:18:47\">\n",
      "  <Game id=\"853208\" away_team_id=\"2128\" away_team_name=\"Angers\" competition_id=\"24\" competition_name=\"French Ligue 1\" game_date=\"2016-09-24T19:00:00\" home_team_id=\"146\" home_team_name=\"Monaco\" matchday=\"7\" period_1_start=\"2016-09-24T19:00:05\" period_2_start=\"2016-09-24T20:02:13\" season_id=\"2016\" season_name=\"Season 2016/2017\">\n",
      "    <Event id=\"676853733\" event_id=\"1\" type_id=\"34\" period_id=\"16\" min=\"0\" sec=\"0\" team_id=\"2128\" outcome=\"1\" x=\"0.0\" y=\"0.0\" timestamp=\"2016-09-24T18:05:53.242\" last_modified=\"2016-09-24T18:05:53\" version=\"1474736753277\" type=\"Team set up\">\n",
      "      <Q id=\"754119280\" qualifier_id=\"44\" value=\"1, 2, 2, 3, 2, 2, 3, 3, 4, 4, 4, 5, 5, 5, 5, 5, 5, 5\" type=\"Player position\"/>\n",
      "      <Q id=\"375256430\" qualifier_id=\"227\" value=\"0, 0, 0, 0, 0, 0, 0, 0, 0, 0, 0, 0, 0, 0, 0, 0, 0, 0\" type=\"Resume\"/>\n",
      "      <Q id=\"1588195137\" qualifier_id=\"194\" value=\"168109\" type=\"Captain\"/>\n",
      "      <Q id=\"1367770728\" qualifier_id=\"197\" value=\"2064\" type=\"Team kit\"/>\n",
      "      <Q id=\"1780120171\" qualifier_id=\"130\" value=\"4\" type=\"Team formation\"/>\n",
      "      <Q id=\"328158070\" qualifier_id=\"30\" value=\"119744, 54518, 93622, 168985, 42416, 45505, 168109, 18574, 149535, 112580, 193454, 40511, 68545, 15304, 66757, 216646, 213575, 81118\" type=\"Involved\"/>\n",
      "      <Q id=\"960916233\" qualifier_id=\"59\" value=\"16, 29, 21, 18, 8, 24, 17, 5, 9, 15, 7, 1, 4, 6, 11, 12, 26, 27\" type=\"Jersey number\"/>\n",
      "      <Q id=\"246529309\" qualifier_id=\"131\" value=\"1, 2, 3, 4, 5, 6, 7, 8, 9, 10, 11, 0, 0, 0, 0, 0, 0, 0\" type=\"Team player formation\"/>\n",
      "    </Event>\n",
      "    <Event id=\"606763559\" event_id=\"1\" type_id=\"34\" period_id=\"16\" min=\"0\" sec=\"0\" team_id=\"146\" outcome=\"1\" x=\"0.0\" y=\"0.0\" timestamp=\"2016-09-24T18:06:01.744\" last_modified=\"2016-09-24T18:57:12\" version=\"1474739832111\" type=\"Team set up\">\n",
      "      <Q id=\"1817399479\" qualifier_id=\"59\" value=\"1, 38, 23, 8, 25, 34, 10, 35, 18, 11, 20, 2, 16, 24, 26, 27, 28, 29\" type=\"Jersey number\"/>\n",
      "      <Q id=\"1652041181\" qualifier_id=\"197\" value=\"649\" type=\"Team kit\"/>\n",
      "      <Q id=\"351697426\" qualifier_id=\"130\" value=\"2\" type=\"Team formation\"/>\n",
      "      <Q id=\"1897117246\" qualifier_id=\"194\" value=\"97041\" type=\"Captain\"/>\n",
      "      <Q id=\"1830808436\" qualifier_id=\"44\" value=\"1, 2, 2, 3, 2, 2, 3, 3, 4, 4, 3, 5, 5, 5, 5, 5, 5, 5\" type=\"Player position\"/>\n",
      "      <Q id=\"1490686690\" qualifier_id=\"131\" value=\"1, 2, 3, 4, 5, 6, 7, 8, 9, 10, 11, 0, 0, 0, 0, 0, 0, 0\" type=\"Team player formation\"/>\n",
      "      <Q id=\"580521275\" qualifier_id=\"227\" value=\"0, 0, 0, 0, 0, 0, 0, 0, 0, 0, 0, 0, 0, 0, 0, 0, 0, 0\" type=\"Resume\"/>\n",
      "      <Q id=\"52638451\" qualifier_id=\"30\" value=\"60582, 192292, 102826, 19624, 71403, 178478, 165809, 218796, 97041, 98914, 198065, 116643, 7446, 15930, 172987, 167449, 126177, 220160\" type=\"Involved\"/>\n",
      "    </Event>\n",
      "    <Event id=\"433543734\" event_id=\"2\" type_id=\"32\" period_id=\"1\" min=\"0\" sec=\"0\" team_id=\"2128\" outcome=\"1\" x=\"0.0\" y=\"0.0\" timestamp=\"2016-09-24T19:00:05.453\" last_modified=\"2016-09-24T19:00:05\" version=\"1474740005458\" type=\"Start\">\n",
      "      <Q id=\"1702249910\" qualifier_id=\"127\" value=\"Left to Right\" type=\"Direction of Play\"/>\n",
      "    </Event>\n",
      "    <Event id=\"565420914\" event_id=\"2\" type_id=\"32\" period_id=\"1\" min=\"0\" sec=\"0\" team_id=\"146\" outcome=\"1\" x=\"0.0\" y=\"0.0\" timestamp=\"2016-09-24T19:00:05.569\" last_modified=\"2016-09-24T19:00:06\" version=\"1474740005571\" type=\"Start\">\n",
      "      <Q id=\"1973511415\" qualifier_id=\"127\" value=\"Right to Left\" type=\"Direction of Play\"/>\n",
      "    </Event>\n",
      "    <Event id=\"516616391\" event_id=\"3\" type_id=\"1\" period_id=\"1\" min=\"0\" sec=\"1\" player_id=\"97041\" team_id=\"146\" outcome=\"1\" x=\"50.6\" y=\"49.5\" timestamp=\"2016-09-24T19:00:07.49\" last_modified=\"2016-09-27T13:03:37\" version=\"1474977817136\" type=\"Pass\">\n",
      "      <Q id=\"1503058954\" qualifier_id=\"279\" value=\"S\" type=\"Kick Off\"/>\n",
      "      <Q id=\"634548654\" qualifier_id=\"56\" value=\"Back\" type=\"56\"/>\n",
      "      <Q id=\"1019192145\" qualifier_id=\"140\" value=\"44.6\" type=\"Pass End X\"/>\n",
      "      <Q id=\"885579689\" qualifier_id=\"213\" value=\"3.1\" type=\"Angle\"/>\n",
      "      <Q id=\"657120529\" qualifier_id=\"278\" type=\"Tap\"/>\n",
      "      <Q id=\"854447689\" qualifier_id=\"141\" value=\"49.5\" type=\"Pass End Y\"/>\n",
      "      <Q id=\"493900211\" qualifier_id=\"212\" value=\"6.3\" type=\"Length\"/>\n",
      "    </Event>\n",
      "  </Game>\n",
      "</Games>\n"
     ]
    }
   ],
   "source": [
    "print(etree.tostring(xml, encoding='unicode'))"
   ]
  },
  {
   "cell_type": "code",
   "execution_count": null,
   "metadata": {},
   "outputs": [],
   "source": []
  }
 ],
 "metadata": {
  "kernelspec": {
   "display_name": "Python 3",
   "language": "python",
   "name": "python3"
  },
  "language_info": {
   "codemirror_mode": {
    "name": "ipython",
    "version": 3
   },
   "file_extension": ".py",
   "mimetype": "text/x-python",
   "name": "python",
   "nbconvert_exporter": "python",
   "pygments_lexer": "ipython3",
   "version": "3.6.6"
  }
 },
 "nbformat": 4,
 "nbformat_minor": 2
}

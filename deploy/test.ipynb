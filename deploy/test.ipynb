{
 "cells": [
  {
   "cell_type": "code",
   "execution_count": 1,
   "metadata": {},
   "outputs": [],
   "source": [
    "import pandas as pd\n",
    "import numpy as np\n",
    "import pickle\n",
    "import os\n",
    "from lxml import etree\n",
    "from logos_tools import *\n",
    "from logos_opta import *\n",
    "from sklearn.compose import ColumnTransformer\n",
    "from sklearn.preprocessing import OneHotEncoder, StandardScaler\n",
    "import xgboost as xgb\n",
    "from xgboost.sklearn import XGBClassifier\n",
    "from sklearn.model_selection import StratifiedShuffleSplit, KFold, GridSearchCV, PredefinedSplit\n",
    "from sklearn.linear_model import LogisticRegression"
   ]
  },
  {
   "cell_type": "code",
   "execution_count": 2,
   "metadata": {},
   "outputs": [],
   "source": [
    "EVENT_FILE = 'event.txt'\n",
    "QUALIFIER_FILE = 'qualifier.txt'\n",
    "ASSOCIATE_FILE = 'associate_use.tsv'\n",
    "GAME_FILE = 'test.xml'\n",
    "PLAYER_FILE = 'players.tsv'\n",
    "USE_PLAYER_FILE = 'use_player'\n",
    "player_transformer_file = 'player_transformer'\n",
    "player_model_file = 'player_model'\n",
    "next_team_transformer_file = 'next_team_transformer'\n",
    "next_team_model_file = 'next_team_model'\n",
    "next_x_transformer_file = 'next_x_transformer'\n",
    "next_x_model_file = 'next_x_model'\n",
    "next_y_transformer_file = 'next_y_transformer'\n",
    "next_y_model_file = 'next_y_model'\n",
    "\n",
    "USE_PLAYERID = '1'"
   ]
  },
  {
   "cell_type": "code",
   "execution_count": 3,
   "metadata": {},
   "outputs": [],
   "source": [
    "# load dim file\n",
    "event_df = pd.read_csv(EVENT_FILE, sep='|')\n",
    "event_s = pd.Series(data=event_df.type.values, index=[str(x) for x in event_df.id])\n",
    "event_dict = event_s.to_dict()\n",
    "qualifier_df = pd.read_csv(QUALIFIER_FILE, sep='|')\n",
    "qualifier_s = pd.Series(data=qualifier_df.type.values, index=[str(x) for x in qualifier_df.id])\n",
    "qualifier_dict = qualifier_s.to_dict()\n",
    "associate_df = pd.read_csv(ASSOCIATE_FILE, sep='\\t')\n",
    "associate_dict = {str(associate_df.Type_id[i]):associate_df.qualifier_id[i].split(',') for i in range(len(associate_df))}\n"
   ]
  },
  {
   "cell_type": "code",
   "execution_count": 4,
   "metadata": {},
   "outputs": [],
   "source": [
    "def get_player_sample(use_df, start, end):\n",
    "    use_half = '2' if start > 45*60 else '1'\n",
    "    # delete last 10 event and stat\n",
    "    use_df = use_df.iloc[:-10]\n",
    "    # game period\n",
    "    use_period = get_period(use_half, start)\n",
    "    # shoot stat\n",
    "    shoot_df = pd.DataFrame({'bigChance':[0], 'bigChance_rate':[0.0], 'head':[0], 'head_rate':[0.0], \n",
    "                             'inside':[0], 'inside_rate':[0.0], 'onTarget':[0], 'onTarget_rate':[0.0], \n",
    "                             'outside':[0], 'outside_rate':[0.0], 'shoot':[0]})\n",
    "    selected = use_df.loc[use_df.event_type.isin(['Miss', 'Post', 'Attempt Saved', 'Goal'])]\n",
    "    selected = selected.loc[selected.player_id==USE_PLAYERID]\n",
    "    if len(selected)>0:\n",
    "        shoot_df = shoot_stat(selected)\n",
    "    # pass stat\n",
    "    pass_df = pd.DataFrame({'pass':[0], 'pass1_rate':[0.0], \n",
    "                     'front':[0], 'front_rate':[0.0], 'front1_rate':[0.0],\n",
    "                     'key':[0], 'key_rate':[0.0],\n",
    "                     'cross':[0], 'cross_rate':[0.0], 'cross1_rate':[0.0],\n",
    "                     'through':[0], 'through_rate':[0.0], 'through1_rate':[0.0],\n",
    "                     'chipped':[0], 'chipped_rate':[0.0], 'chipped1_rate':[0.0],\n",
    "                     'forward':[0], 'forward_rate':[0.0], 'forward1_rate':[0.0],\n",
    "                     'back':[0], 'back_rate':[0.0], 'back1_rate':[0.0],\n",
    "                     'left':[0], 'left_rate':[0.0], 'left1_rate':[0.0],\n",
    "                     'right':[0], 'right_rate':[0.0], 'right1_rate':[0.0],\n",
    "                     'short':[0], 'short_rate':[0.0], 'short1_rate':[0.0],\n",
    "                     'middle':[0], 'middle_rate':[0.0], 'middle1_rate':[0.0],\n",
    "                     'long':[0], 'long_rate':[0.0], 'long1_rate':[0.0],\n",
    "                     'positionC':[0], 'positionC_rate':[0.0], 'positionC1_rate':[0.0],\n",
    "                     'positionL':[0], 'positionL_rate':[0.0], 'positionL1_rate':[0.0],\n",
    "                     'positionR':[0], 'positionR_rate':[0.0], 'positionR1_rate':[0.0],\n",
    "                     'positionB':[0], 'positionB_rate':[0.0], 'positionB1_rate':[0.0]\n",
    "                    })\n",
    "    selected = use_df.loc[use_df.event_type=='Pass']\n",
    "    selected = selected.loc[selected.player_id==USE_PLAYERID]\n",
    "    if (len(selected)>0):\n",
    "        pass_df = pass_stat(selected)\n",
    "    # other stat\n",
    "    selected = use_df.loc[use_df.player_id==USE_PLAYERID]\n",
    "    other_df = other_stat(selected)\n",
    "    # get team_id\n",
    "    team_id_s = pd.Series(selected.team_id.iloc[0], name='team_id')\n",
    "    # concat\n",
    "    sample = pd.concat([pass_df, shoot_df, other_df, team_id_s], axis=1, sort=False)\n",
    "    sample = sample.fillna(0)\n",
    "    sample['period'] = use_period\n",
    "    sample['start'] = start\n",
    "    sample['end'] = end\n",
    "    return sample"
   ]
  },
  {
   "cell_type": "code",
   "execution_count": 15,
   "metadata": {},
   "outputs": [],
   "source": [
    "def get_team_sample(use_df, start, end):\n",
    "    # game period\n",
    "    use_half = '2' if start > 45*60 else '1'\n",
    "    use_period = get_period(use_half, start)\n",
    "    # last 10 event\n",
    "    last10 = use_df.iloc[-10:]\n",
    "    last10_list = list(last10.team_id +'-'+ last10.event_type +'-'+ last10.apply(lambda row: get_position_xy(row.x, row.y), axis=1) +'-'+ use_period)\n",
    "    last_team = last10.team_id.iloc[-1]\n",
    "    last_event_type = last10.event_type.iloc[-1]\n",
    "    last_x = safe_convert(last10.x.iloc[-1], float, 0)\n",
    "    last_y = safe_convert(last10.y.iloc[-1], float, 0)\n",
    "    last_event = last10_list[-1]\n",
    "    # delete last 10 event and stat\n",
    "    use_df = use_df.iloc[:-10]\n",
    "    # shoot stat\n",
    "    shoot_df = pd.DataFrame({'bigChance':[0,0], 'bigChance_rate':[0.0,0.0], 'head':[0,0], 'head_rate':[0.0,0.0], 'inside':[0,0], 'inside_rate':[0.0,0.0], 'onTarget':[0,0], 'onTarget_rate':[0.0,0.0], 'outside':[0,0], 'outside_rate':[0.0,0.0], 'shoot':[0,0]}, index=['0','1'])\n",
    "    shoot_df.index.name = 'team_id'\n",
    "    selected = use_df.loc[use_df.event_type.isin(['Miss', 'Post', 'Attempt Saved', 'Goal'])]\n",
    "    if len(selected)>0:\n",
    "        shoot_df = selected.groupby('team_id').apply(shoot_stat)\n",
    "        shoot_df = shoot_df.reset_index(level=1, drop=True)\n",
    "    # pass stat\n",
    "    pass_df = pd.DataFrame({'pass':[0,0], 'pass1_rate':[0.0,0.0], \n",
    "                         'front':[0,0], 'front_rate':[0.0,0.0], 'front1_rate':[0.0,0.0],\n",
    "                         'key':[0,0], 'key_rate':[0.0,0.0],\n",
    "                         'cross':[0,0], 'cross_rate':[0.0,0.0], 'cross1_rate':[0.0,0.0],\n",
    "                         'through':[0,0], 'through_rate':[0.0,0.0], 'through1_rate':[0.0,0.0],\n",
    "                         'chipped':[0,0], 'chipped_rate':[0.0,0.0], 'chipped1_rate':[0.0,0.0],\n",
    "                         'forward':[0,0], 'forward_rate':[0.0,0.0], 'forward1_rate':[0.0,0.0],\n",
    "                         'back':[0,0], 'back_rate':[0.0,0.0], 'back1_rate':[0.0,0.0],\n",
    "                         'left':[0,0], 'left_rate':[0.0,0.0], 'left1_rate':[0.0,0.0],\n",
    "                         'right':[0,0], 'right_rate':[0.0,0.0], 'right1_rate':[0.0,0.0],\n",
    "                         'short':[0,0], 'short_rate':[0.0,0.0], 'short1_rate':[0.0,0.0],\n",
    "                         'middle':[0,0], 'middle_rate':[0.0,0.0], 'middle1_rate':[0.0,0.0],\n",
    "                         'long':[0,0], 'long_rate':[0.0,0.0], 'long1_rate':[0.0,0.0],\n",
    "                         'positionC':[0,0], 'positionC_rate':[0.0,0.0], 'positionC1_rate':[0.0,0.0],\n",
    "                         'positionL':[0,0], 'positionL_rate':[0.0,0.0], 'positionL1_rate':[0.0,0.0],\n",
    "                         'positionR':[0,0], 'positionR_rate':[0.0,0.0], 'positionR1_rate':[0.0,0.0],\n",
    "                         'positionB':[0,0], 'positionB_rate':[0.0,0.0], 'positionB1_rate':[0.0,0.0]\n",
    "                        }, index=['0','1'])\n",
    "    pass_df.index.name = 'team_id'\n",
    "    selected = use_df.loc[use_df.event_type=='Pass']\n",
    "    if (len(selected)>0):\n",
    "        pass_df = selected.groupby('team_id').apply(pass_stat)\n",
    "        pass_df = pass_df.reset_index(level=1, drop=True)\n",
    "    # other stat\n",
    "    other_df = use_df.groupby('team_id').apply(other_stat)\n",
    "    other_df = other_df.reset_index(level=1, drop=True)\n",
    "    # concat\n",
    "    sample = pd.concat([pass_df, shoot_df, other_df], axis=1, sort=False)\n",
    "    sample = sample.fillna(0)\n",
    "    sample['period'] = use_period\n",
    "    sample['last_team'] = last_team\n",
    "    sample['last_event_type'] = last_event_type\n",
    "    sample['last_x'] = last_x\n",
    "    sample['last_y'] = last_y\n",
    "    sample['last_event'] = last_event\n",
    "    sample['last10_list'] = ','.join(last10_list)\n",
    "    sample['team_id'] = sample.index\n",
    "    sample['start'] = start\n",
    "    sample['end'] = end\n",
    "    # add new features\n",
    "    data = sample\n",
    "    def get_event_use(x, i):\n",
    "        return '-'.join(x.split(',')[-i].split('-')[:2])\n",
    "    data['last1_event'] = data.last10_list.map(lambda x: get_event_use(x,1))\n",
    "    data['last2_event'] = data.last10_list.map(lambda x: get_event_use(x,2))\n",
    "    data['pass1'] = data['pass']*data['pass1_rate']\n",
    "    data['front1'] = data['front']*data['front1_rate']\n",
    "    data['defend'] = data['tackle']+data['interception']\n",
    "    data['takeon1'] = data['takeon1_rate']+data['takeon']\n",
    "    data['positionC1'] = data['positionC1_rate']*data['positionC']\n",
    "    data['positionL1'] = data['positionL1_rate']*data['positionL']\n",
    "    data['positionR1'] = data['positionR1_rate']*data['positionR']\n",
    "    data['positionB1'] = data['positionB1_rate']*data['positionB']\n",
    "    data['last_position'] = data.last_event.map(lambda x:x.split('-')[2])\n",
    "    data['position9'] = data.last10_list.map(lambda x:x.split(',')[9].split('-')[2])\n",
    "    data['position8'] = data.last10_list.map(lambda x:x.split(',')[8].split('-')[2])\n",
    "    data['position7'] = data.last10_list.map(lambda x:x.split(',')[7].split('-')[2])\n",
    "    data['position6'] = data.last10_list.map(lambda x:x.split(',')[6].split('-')[2])\n",
    "    data['position5'] = data.last10_list.map(lambda x:x.split(',')[5].split('-')[2])\n",
    "    return data\n",
    "  "
   ]
  },
  {
   "cell_type": "code",
   "execution_count": 16,
   "metadata": {},
   "outputs": [],
   "source": [
    "# read game\n",
    "xml = etree.parse(GAME_FILE)\n",
    "game = xml.xpath('Game')[0]\n",
    "# xml to dataframe\n",
    "game_df = pd.concat([parse_event(x, event_dict, qualifier_dict, associate_dict) for x in game], axis=0)\n",
    "game_df = game_df.fillna(value=UNK)\n",
    "# cleaning\n",
    "game_df.loc[game_df.event_type=='Deleted event', \n",
    "            ['length', 'direction', 'position', 'qualifier']] = UNK\n",
    "game_df.loc[game_df.event_type=='Clearance', \n",
    "            ['direction', 'position']] = UNK\n",
    "game_df['time'] = game_df['min'].astype('int')*60 + game_df['sec'].astype('int')\n",
    "game_df = game_df.reset_index(drop=True)\n",
    "\n",
    "use_df = game_df\n",
    "start = game_df.time.iloc[0]\n",
    "end = game_df.time.iloc[-1]\n"
   ]
  },
  {
   "cell_type": "code",
   "execution_count": 7,
   "metadata": {},
   "outputs": [
    {
     "name": "stderr",
     "output_type": "stream",
     "text": [
      "/Users/logos/.pyenv/versions/3.5.6/lib/python3.5/site-packages/sklearn/pipeline.py:605: DataConversionWarning: Data with input dtype int64, float64 were all converted to float64 by StandardScaler.\n",
      "  res = transformer.transform(X)\n"
     ]
    }
   ],
   "source": [
    "# ---player---\n",
    "data = get_player_sample(game_df, start, end)\n",
    "# feature transform\n",
    "with open(player_transformer_file, 'rb') as handle:\n",
    "    column_trans = pickle.load(handle)\n",
    "X = column_trans.transform(data)\n",
    "# predict\n",
    "with open(player_model_file, 'rb') as handle:\n",
    "    model = pickle.load(handle)\n",
    "pred_player = model.predict(X)\n"
   ]
  },
  {
   "cell_type": "code",
   "execution_count": 8,
   "metadata": {},
   "outputs": [
    {
     "data": {
      "text/plain": [
       "array([93289])"
      ]
     },
     "execution_count": 8,
     "metadata": {},
     "output_type": "execute_result"
    }
   ],
   "source": [
    "pred_player"
   ]
  },
  {
   "cell_type": "code",
   "execution_count": 136,
   "metadata": {},
   "outputs": [],
   "source": [
    "def concat_home_and_away_team(data):\n",
    "    # concat home and away\n",
    "    self_fields = {'pass1', 'front1', 'defend', 'ballTouch', 'shoot', 'foul', 'clearance', 'takeon1',\n",
    "                  'positionC1', 'positionL1', 'positionR1', 'positionB1'}\n",
    "    opp_fields = self_fields.copy()\n",
    "    useful_fields = {'period', 'last_team', 'last_position', 'last1_event', 'last2_event', 'last_x', 'last_y', \n",
    "                     'last10_list', 'game'}\n",
    "    home_df = data.loc[data.team_id=='1', list(self_fields.union(useful_fields))]\n",
    "    home_df.reset_index(drop=True, inplace=True)\n",
    "    away_df = data.loc[data.team_id=='0', list(opp_fields)]\n",
    "    away_df.reset_index(drop=True, inplace=True)\n",
    "    away_df.columns = away_df.columns + '_o'\n",
    "    data_new = pd.concat([home_df, away_df], axis=1, sort=False)\n",
    "    return data_new.reset_index(drop=True)"
   ]
  },
  {
   "cell_type": "code",
   "execution_count": 137,
   "metadata": {},
   "outputs": [
    {
     "name": "stderr",
     "output_type": "stream",
     "text": [
      "/Users/logos/.pyenv/versions/3.5.6/lib/python3.5/site-packages/pandas/core/indexing.py:1494: FutureWarning: \n",
      "Passing list-likes to .loc or [] with any missing label will raise\n",
      "KeyError in the future, you can use .reindex() as an alternative.\n",
      "\n",
      "See the documentation here:\n",
      "https://pandas.pydata.org/pandas-docs/stable/indexing.html#deprecate-loc-reindex-listlike\n",
      "  return self._getitem_tuple(key)\n",
      "/Users/logos/.pyenv/versions/3.5.6/lib/python3.5/site-packages/sklearn/pipeline.py:605: DataConversionWarning: Data with input dtype int64, float64 were all converted to float64 by StandardScaler.\n",
      "  res = transformer.transform(X)\n"
     ]
    }
   ],
   "source": [
    "# ---team---\n",
    "data = get_team_sample(game_df, start, end)\n",
    "data = concat_home_and_away_team(data)\n",
    "\n",
    "with open(next_team_transformer_file, 'rb') as handle:\n",
    "    column_trans = pickle.load(handle)\n",
    "X = column_trans.transform(data)\n",
    "\n",
    "# predict\n",
    "with open(next_team_model_file, 'rb') as handle:\n",
    "    model = pickle.load(handle)\n",
    "pred_next_team = model.predict(X)\n"
   ]
  },
  {
   "cell_type": "code",
   "execution_count": 115,
   "metadata": {},
   "outputs": [],
   "source": []
  },
  {
   "cell_type": "code",
   "execution_count": 140,
   "metadata": {},
   "outputs": [],
   "source": [
    "def concat_home_and_away_xy(data):\n",
    "    # concat home and away\n",
    "    self_fields = {'pass1', 'front1', 'defend', 'ballTouch', 'shoot', 'foul', 'clearance', 'takeon1',\n",
    "              'positionC1', 'positionL1', 'positionR1', 'positionB1',\n",
    "              'positionC_rate', 'positionL_rate', 'positionR_rate', 'positionB_rate', \n",
    "               'short_rate', 'middle_rate', 'long_rate'}\n",
    "    opp_fields = self_fields.copy()\n",
    "    useful_fields = {'period', 'last_team', 'last_position', 'last1_event', 'last2_event', 'last10_list', 'game',\n",
    "                    'last_x', 'last_y'}\n",
    "#     if (predict_y):\n",
    "#         useful_fields.add('last_y')\n",
    "#     else:\n",
    "#         useful_fields.add('last_x')\n",
    "    add_pisition_fields = {'position9', 'position8', 'position7', 'position6', 'position5'}\n",
    "    useful_fields = useful_fields.union(add_pisition_fields)\n",
    "    home_df = data.loc[data.team_id=='1', list(self_fields.union(useful_fields))]\n",
    "    home_df.reset_index(drop=True, inplace=True)\n",
    "    away_df = data.loc[data.team_id=='0', list(opp_fields)]\n",
    "    away_df.reset_index(drop=True, inplace=True)\n",
    "    away_df.columns = away_df.columns + '_o'\n",
    "    data_new = pd.concat([home_df, away_df], axis=1, sort=False)\n",
    "    return data_new.reset_index(drop=True)"
   ]
  },
  {
   "cell_type": "code",
   "execution_count": 145,
   "metadata": {},
   "outputs": [
    {
     "name": "stderr",
     "output_type": "stream",
     "text": [
      "/Users/logos/.pyenv/versions/3.5.6/lib/python3.5/site-packages/pandas/core/indexing.py:1494: FutureWarning: \n",
      "Passing list-likes to .loc or [] with any missing label will raise\n",
      "KeyError in the future, you can use .reindex() as an alternative.\n",
      "\n",
      "See the documentation here:\n",
      "https://pandas.pydata.org/pandas-docs/stable/indexing.html#deprecate-loc-reindex-listlike\n",
      "  return self._getitem_tuple(key)\n",
      "/Users/logos/.pyenv/versions/3.5.6/lib/python3.5/site-packages/sklearn/pipeline.py:605: DataConversionWarning: Data with input dtype int64, float64 were all converted to float64 by StandardScaler.\n",
      "  res = transformer.transform(X)\n",
      "/Users/logos/.pyenv/versions/3.5.6/lib/python3.5/site-packages/sklearn/pipeline.py:605: DataConversionWarning: Data with input dtype int64, float64 were all converted to float64 by StandardScaler.\n",
      "  res = transformer.transform(X)\n"
     ]
    }
   ],
   "source": [
    "# ---xy---\n",
    "data = get_team_sample(game_df, start, end)\n",
    "data = concat_home_and_away_xy(data)\n",
    "\n",
    "with open(next_x_transformer_file, 'rb') as handle:\n",
    "    column_trans = pickle.load(handle)\n",
    "X = column_trans.transform(data)\n",
    "\n",
    "# predict\n",
    "with open(next_x_model_file, 'rb') as handle:\n",
    "    model = pickle.load(handle)\n",
    "pred_next_x = model.predict(X)\n",
    "\n",
    "with open(next_y_transformer_file, 'rb') as handle:\n",
    "    column_trans = pickle.load(handle)\n",
    "X = column_trans.transform(data)\n",
    "\n",
    "# predict\n",
    "with open(next_y_model_file, 'rb') as handle:\n",
    "    model = pickle.load(handle)\n",
    "pred_next_y = model.predict(X)"
   ]
  },
  {
   "cell_type": "code",
   "execution_count": 146,
   "metadata": {},
   "outputs": [
    {
     "data": {
      "text/plain": [
       "array([42.220707], dtype=float32)"
      ]
     },
     "execution_count": 146,
     "metadata": {},
     "output_type": "execute_result"
    }
   ],
   "source": []
  },
  {
   "cell_type": "code",
   "execution_count": 153,
   "metadata": {},
   "outputs": [],
   "source": [
    "result = [pred_player[0], pred_next_team[0], pred_next_y[0], pred_next_x[0]]\n",
    "result = ','.join([str(x) for x in result])\n",
    "with open('res_psgx.csv', 'w') as f:\n",
    "    f.write(result)"
   ]
  },
  {
   "cell_type": "code",
   "execution_count": 154,
   "metadata": {},
   "outputs": [],
   "source": [
    "with open('res_psgx.csv', 'w') as f:\n",
    "    f.write(result)"
   ]
  },
  {
   "cell_type": "code",
   "execution_count": 155,
   "metadata": {},
   "outputs": [
    {
     "ename": "TypeError",
     "evalue": "Required argument 'command' (pos 1) not found",
     "output_type": "error",
     "traceback": [
      "\u001b[0;31m---------------------------------------------------------------------------\u001b[0m",
      "\u001b[0;31mTypeError\u001b[0m                                 Traceback (most recent call last)",
      "\u001b[0;32m<ipython-input-155-1118b91a9e67>\u001b[0m in \u001b[0;36m<module>\u001b[0;34m\u001b[0m\n\u001b[1;32m      1\u001b[0m \u001b[0;32mimport\u001b[0m \u001b[0mos\u001b[0m\u001b[0;34m\u001b[0m\u001b[0m\n\u001b[1;32m      2\u001b[0m \u001b[0;34m\u001b[0m\u001b[0m\n\u001b[0;32m----> 3\u001b[0;31m \u001b[0mos\u001b[0m\u001b[0;34m.\u001b[0m\u001b[0msystem\u001b[0m\u001b[0;34m(\u001b[0m\u001b[0;34m)\u001b[0m\u001b[0;34m\u001b[0m\u001b[0m\n\u001b[0m",
      "\u001b[0;31mTypeError\u001b[0m: Required argument 'command' (pos 1) not found"
     ]
    }
   ],
   "source": [
    "import os\n",
    "\n",
    "os.system()"
   ]
  },
  {
   "cell_type": "code",
   "execution_count": null,
   "metadata": {},
   "outputs": [],
   "source": []
  }
 ],
 "metadata": {
  "kernelspec": {
   "display_name": "Python 3",
   "language": "python",
   "name": "python3"
  },
  "language_info": {
   "codemirror_mode": {
    "name": "ipython",
    "version": 3
   },
   "file_extension": ".py",
   "mimetype": "text/x-python",
   "name": "python",
   "nbconvert_exporter": "python",
   "pygments_lexer": "ipython3",
   "version": "3.5.6"
  }
 },
 "nbformat": 4,
 "nbformat_minor": 2
}
